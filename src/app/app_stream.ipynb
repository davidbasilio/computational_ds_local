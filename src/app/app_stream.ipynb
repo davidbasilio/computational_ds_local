{
 "cells": [
  {
   "cell_type": "code",
   "execution_count": 13,
   "metadata": {},
   "outputs": [],
   "source": [
    "import streamlit as st\n",
    "import pandas as pd\n",
    "import numpy as np\n",
    "import os\n",
    "import plotly.express as px\n",
    "import plotly.graph_objects as go\n",
    "\n",
    "# Your code to load data and generate results\n",
    "def load_data():\n",
    "    # Replace this with your actual code to load data (e.g., from a CSV file)\n",
    "    path = os.path.join(os.getcwd(), '../..', 'data', 'output', 'updated_dataframe_with_clusters_word2vec.csv')\n",
    "    df = pd.read_csv(path)\n",
    "    return df\n",
    "\n",
    "# Your code to generate results\n",
    "def generate_results(df):\n",
    "    # Replace this with your actual code to generate results\n",
    "    results = df.head()\n",
    "    return results\n",
    "\n",
    "# Your code to generate Plotly plots\n",
    "def extract_text(df, actual_news):\n",
    "    row = df.loc[df['Headline'] == actual_news].iloc[0]\n",
    "    link = row['Link']\n",
    "    text = row['Text'][:100] if len(row['Text']) > 100 else row['Text']\n",
    "    return f\"{text}...[read more]({link})\"\n",
    "\n",
    "\n",
    "# Load data\n",
    "df = load_data()\n",
    "actual_news = np.random.choice(df['Headline'])\n",
    "\n",
    "# Generate and display results from your code\n",
    "results = generate_results(df)\n",
    "\n",
    "print(actual_news)"
   ]
  },
  {
   "cell_type": "code",
   "execution_count": 12,
   "metadata": {},
   "outputs": [
    {
     "data": {
      "text/plain": [
       "\"Story highlights Obama: 'The threat from terrorism is real, but we will overcome it' CNN/ORC poll finds 60% of Americans disapprove of Obama's handling of terrorism Washington CNN — President Barack Obama on Sunday issued his most passionate denunciation yet of ISIS, vowing to “destroy” the group in a relentless, strong and smart campaign that is consistent with the nation’s values. But the speech – intended to reassure a nervous nation – didn’t announce an overhaul of a policy that critics have branded insufficient to take on the evolving threat. Obama, speaking in the symbolic surroundings of the Oval Office, unequivocally told millions of television viewers in prime-time that last week’s mass shooting in San Bernardino, California, was a terrorist attack by a couple who had gone down the “dark path of radicalization” and embraced a “perverted” form of Islam. “This was an act of terrorism designed to kill innocent people,” Obama said. “Here’s what I want you to know. The threat from terrorism is real, but we will overcome it. We will destroy ISIL and any other organization that tries to harm us.” TRANSCRIPT: Obama’s address to the nation The president was clearly conscious of ebbing public support for his response to terrorism — an area of his presidency that was once a political asset. He sought to reassure the nation that the crisis was under control as he spoke, unusually from a podium set up in the Oval Office and not behind his desk, as most previous presidents have done. ‘We will prevail’ “We will prevail by being strong and smart, resilient and relentless,” Obama said, calling on Congress to take action to outlaw anyone on a terrorist “no fly list” from buying weapons and asking lawmakers to pass a final authorization for U.S. armed forces to wage war on the group. President Barack Obama attends the opening session of the 2014 Nuclear Security Summit in March 2014 in the Hague, Netherlands. Sean Gallup/Getty Images gallery Barack Obama's presidency And in an appeal that will likely anger conservatives, Obama demanded tougher gun control, saying it was a key part of combating ISIS. He said it is currently too easy for people who want to harm Americans to buy guns. “Congress should act to make sure no one on a no-fly list is able to buy a gun. What could possibly be the argument for allowing a terrorist suspect to buy a semiautomatic weapon? This is a matter of national security,” Obama said, and also argued it should be harder to buy powerful assault weapons like those used in the San Bernardino attacks that killed 14 people. “What we can do, and must do, is make it harder for them to kill,” Obama said. But in a Congress dominated by Republicans, passing a force authorization bill or revisiting gun laws could prove nearly impossible. READ: Trump would consider gun ban for no-fly list members that rest of GOP balks at While the speech was mostly a reiteration of Obama’s existing strategy against terrorism, it unfolded against a highly political context. Disapproval of Obama In a new CNN/ORC poll released on Sunday, 60% of Americans disapproved of Obama’s handling of terrorism – up nine points since May. Two thirds of those polled, meanwhile, said they disapproved of the president’s handling of ISIS. The survey was conducted before the attacks in San Bernardino and also showed a shift in public opinion on how to tackle the group with a majority – 53% – for the first time saying the U.S. should send ground troops to fight ISIS. And 68% said the American response to the group’s rise had not been sufficiently aggressive. Republicans, spotting a political opportunity to denounce Obama and Democratic front-runner Hillary Clinton have seized on the president’s struggle to convince Americans about his ISIS strategy. National security, the role of Muslims in U.S. society and threats to the homeland have become an explosive element in the 2016 campaign. Republican front-runner Donald Trump “live tweeted” Obama’s speech and declared, “We need a new President - FAST!” and asked “Is that all there is?” Other Republican candidates also reacted to the speech. Former Florida Gov. Jeb Bush said Obama had finally abandoned his “political fantasy” that terrorism was receding and said it was now time for a wartime commander-in-chief to take over. Sen. Rand Paul meanwhile rebuked the president for including a call for gun control in an address about terrorism. But Obama warned that the kind of heated anti-Muslim rhetoric and tough talk that has erupted in the Republican presidential race from candidates such as Trump would play into the hands of ISIS. “Our success won’t depend on tough talk, or abandoning our values or giving into fear. That’s what groups like ISIL are hoping for. Instead, we will prevail by being strong and smart, resilient and relentless. And by drawing upon every aspect of American power,” Obama said. Ground forces The President also warned that the United States would not win the war against ISIS by repeating what he sees as mistaken mass deployments of ground forces that were seen in the war in Iraq. “We should not be drawn once more into a long and costly ground war in Iraq or Syria. That’s what groups like ISIL want. They know they can’t defeat us on the battlefield. ISIL fighters were part of the insurgency that we faced in Iraq. But they also know that if we occupy foreign lands, they can maintain insurgencies for years, killing thousands of our troops and draining our resources, and using our presence to draw new recruits,” Obama said. BRUSSELS, BELGIUM - MARCH 22: Wounded passengers are treated following a suicide bombing at Brussels Zaventem airport on March 22, 2016 in Brussels, Belgium. Georgian journalist Ketevan Kardava, special correspondent for the Georgian Public Broadcaster, was travelling to Geneva when the attack took place, she was knocked to the floor and began to take photographs in the moments that followed. At least 31 people were killed and more than 260 injured in a twin suicide blast at Zaventem Airport and a further bomb attack at Maelbeek Metro Station. Two brothers are thought to have carried out the attacks and a manhunt is underway for a third suspect. (Photo by Ketevan Kardava/Getty Images) Ketevan Kardava/Getty Images gallery The ISIS terror threat In a speech that argued for staying the course of his present strategy, Obama insisted that the approach that he was using, including the use of air strikes, special forces and working with local forces in Iraq and Syria would result in a sustainable victory and it won’t require sending a new generation of Americans to fight and die on foreign soil. He also made clear that adherents of Islam also have a responsibility – even as he cautioned that ISIS does not speak for the faith and was made up of “thugs and killers, part of a cult of death.” READ: Clinton explains why she won’t say ‘radical Islam’ “That does not mean denying the fact that an extremist ideology has spread within some Muslim communities. It’s a real problem that Muslims must confront without excuse,” Obama said, and called on Islamic leaders to work to unequivocally reject the “hateful ideology” of groups like ISIS and al Qaeda. But while his address contained his most passionate and robust rhetoric about the war on ISIS, Obama did not detail major new policy approaches. He said that the U.S. military will hunt down terrorist plotters in any nation where they hide and take out ISIS leaders, heavy weapons, oil tankers and infrastructure in Iraq and Syria. He noted that he would continue to provide training and equipment to tens of thousands of Iraq and Syria forces fighting ISIS on the ground and said that since the Paris attack, U.S. special operations forces had stepped up activity in both countries. Obama also said that Washington was doing more to work with allies to cut ISIS financing and prevent the recruiting of more foreign fighters and to share intelligence and had intensified a search for a process to ensure a political resolution to the Syrian civil war which has provided a breeding ground for ISIS. Unity Obama closed with a call for unity and patriotism, urging Americans not to forget what makes their nation exceptional, even amid the fury of the political season and heated debates over the right way to combat terrorism. “Let’s not forget that freedom is more powerful than fear. That we have always met challenges, whether war or depression, natural disasters or terrorist attacks, by coming together around our common ideals as one nation and one people,” Obama said.\""
      ]
     },
     "execution_count": 12,
     "metadata": {},
     "output_type": "execute_result"
    }
   ],
   "source": [
    "df.loc[df['Headline'] == actual_news].iloc[0]['Text']"
   ]
  },
  {
   "cell_type": "code",
   "execution_count": 8,
   "metadata": {},
   "outputs": [
    {
     "name": "stdout",
     "output_type": "stream",
     "text": [
      "          A         B         C\n",
      "0  0.789598  0.041069  0.556581\n",
      "1 -2.210204 -1.024442 -0.397677\n",
      "2 -0.878939  0.068464  0.737978\n",
      "3 -0.285067 -0.229595 -1.759031\n",
      "4 -1.897956  0.059743  0.384777\n",
      "-1.8979563056522435\n"
     ]
    }
   ],
   "source": [
    "import numpy as np\n",
    "df = pd.DataFrame(np.random.randn(5, 3), columns=list('ABC'))\n",
    "print(df)\n",
    "print(df.loc[4]['A'])"
   ]
  }
 ],
 "metadata": {
  "kernelspec": {
   "display_name": "base",
   "language": "python",
   "name": "python3"
  },
  "language_info": {
   "codemirror_mode": {
    "name": "ipython",
    "version": 3
   },
   "file_extension": ".py",
   "mimetype": "text/x-python",
   "name": "python",
   "nbconvert_exporter": "python",
   "pygments_lexer": "ipython3",
   "version": "3.9.18"
  }
 },
 "nbformat": 4,
 "nbformat_minor": 2
}
