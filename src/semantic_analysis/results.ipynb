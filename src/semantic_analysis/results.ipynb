{
 "cells": [
  {
   "cell_type": "code",
   "execution_count": 1,
   "metadata": {},
   "outputs": [
    {
     "name": "stderr",
     "output_type": "stream",
     "text": [
      "c:\\Users\\inest\\AppData\\Local\\Programs\\Python\\Python310\\lib\\site-packages\\tqdm\\auto.py:21: TqdmWarning: IProgress not found. Please update jupyter and ipywidgets. See https://ipywidgets.readthedocs.io/en/stable/user_install.html\n",
      "  from .autonotebook import tqdm as notebook_tqdm\n"
     ]
    }
   ],
   "source": [
    "import numpy as np\n",
    "import pandas as pd\n",
    "import sys\n",
    "import os\n",
    "sys.path.append('../src')\n",
    "sys.path.append('../data')\n",
    "import semantic_analysis"
   ]
  },
  {
   "cell_type": "code",
   "execution_count": 2,
   "metadata": {},
   "outputs": [
    {
     "name": "stderr",
     "output_type": "stream",
     "text": [
      "Truncation was not explicitly activated but `max_length` is provided a specific value, please use `truncation=True` to explicitly truncate examples to max length. Defaulting to 'longest_first' truncation strategy. If you encode pairs of sequences (GLUE-style) with the tokenizer you can select this strategy more precisely by providing a specific strategy to `truncation`.\n"
     ]
    }
   ],
   "source": [
    "# Define the path\n",
    "base_path = r\"C:\\Users\\inest\\OneDrive - Danmarks Tekniske Universitet\\Semester I\\Computational Tools for Data Science\\data\"\n",
    "\n",
    "# Loop through years from 2014 to 2019\n",
    "for year in range(2019, 2020):\n",
    "\n",
    "    file_path = os.path.join(base_path, f\"fox_{year}_output.csv\")\n",
    "    \n",
    "    # Check if the file exists for the given year\n",
    "    if os.path.exists(file_path):\n",
    "        # Read the CSV file\n",
    "        semantic_analysis.lexicon_nltk(file_path)\n",
    "        semantic_analysis.roberta_semantic_algorithm_twitter(file_path)\n",
    "        \n",
    "        print(f\"File saved for year {year}\")\n",
    "    else:\n",
    "        print(f\"No file found for year {year}\")\n"
   ]
  },
  {
   "cell_type": "code",
   "execution_count": null,
   "metadata": {},
   "outputs": [
    {
     "name": "stdout",
     "output_type": "stream",
     "text": [
      "tensor([[ 0.1195, -0.1077]], grad_fn=<AddmmBackward0>)\n",
      "tensor([ 0.1195, -0.1077], grad_fn=<SelectBackward0>)\n",
      "<class 'torch.Tensor'>\n",
      "tensor([ 0.1195, -0.1077], grad_fn=<SelectBackward0>)\n"
     ]
    }
   ],
   "source": [
    "# Define the path\n",
    "base_path = r\"C:\\Users\\storr\\OneDrive - Danmarks Tekniske Universitet\\Year 1\\Semester 1\\Computational Tools for Data Science\\Project\\DATA\"\n",
    "\n",
    "# Loop through years from 2014 to 2019\n",
    "for year in range(2014, 2020):\n",
    "\n",
    "    file_path = os.path.join(base_path, f\"cnn_{year}_output.csv\")\n",
    "    \n",
    "    # Check if the file exists for the given year\n",
    "    if os.path.exists(file_path):\n",
    "        # Read the CSV file\n",
    "        #semantic_analysis.lexicon_nltk(file_path)\n",
    "        output_twitter = semantic_analysis.roberta_semantic_algorithm_twitter(file_path)\n",
    "        \n",
    "        print(f\"File saved for year {year}\")\n",
    "    else:\n",
    "        print(f\"No file found for year {year}\")"
   ]
  }
 ],
 "metadata": {
  "kernelspec": {
   "display_name": "Python 3",
   "language": "python",
   "name": "python3"
  },
  "language_info": {
   "codemirror_mode": {
    "name": "ipython",
    "version": 3
   },
   "file_extension": ".py",
   "mimetype": "text/x-python",
   "name": "python",
   "nbconvert_exporter": "python",
   "pygments_lexer": "ipython3",
   "version": "3.10.4"
  }
 },
 "nbformat": 4,
 "nbformat_minor": 2
}
