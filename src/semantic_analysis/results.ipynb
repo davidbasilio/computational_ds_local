{
 "cells": [
  {
   "cell_type": "code",
   "execution_count": 2,
   "metadata": {},
   "outputs": [],
   "source": [
    "import numpy as np\n",
    "import pandas as pd\n",
    "import sys\n",
    "import os\n",
    "sys.path.append('../src')\n",
    "sys.path.append('../data')\n",
    "import  semantic_analysis#, helper\n",
    "import os"
   ]
  },
  {
   "cell_type": "code",
   "execution_count": 3,
   "metadata": {},
   "outputs": [
    {
     "name": "stderr",
     "output_type": "stream",
     "text": [
      "Truncation was not explicitly activated but `max_length` is provided a specific value, please use `truncation=True` to explicitly truncate examples to max length. Defaulting to 'longest_first' truncation strategy. If you encode pairs of sequences (GLUE-style) with the tokenizer you can select this strategy more precisely by providing a specific strategy to `truncation`.\n"
     ]
    },
    {
     "name": "stdout",
     "output_type": "stream",
     "text": [
      "File saved for year 2014\n"
     ]
    },
    {
     "name": "stderr",
     "output_type": "stream",
     "text": [
      "Truncation was not explicitly activated but `max_length` is provided a specific value, please use `truncation=True` to explicitly truncate examples to max length. Defaulting to 'longest_first' truncation strategy. If you encode pairs of sequences (GLUE-style) with the tokenizer you can select this strategy more precisely by providing a specific strategy to `truncation`.\n"
     ]
    },
    {
     "name": "stdout",
     "output_type": "stream",
     "text": [
      "File saved for year 2015\n"
     ]
    },
    {
     "name": "stderr",
     "output_type": "stream",
     "text": [
      "Truncation was not explicitly activated but `max_length` is provided a specific value, please use `truncation=True` to explicitly truncate examples to max length. Defaulting to 'longest_first' truncation strategy. If you encode pairs of sequences (GLUE-style) with the tokenizer you can select this strategy more precisely by providing a specific strategy to `truncation`.\n"
     ]
    },
    {
     "name": "stdout",
     "output_type": "stream",
     "text": [
      "File saved for year 2016\n"
     ]
    }
   ],
   "source": [
    "\n",
    "# Define the path\n",
    "base_path = r\"C:\\Users\\storr\\OneDrive - Danmarks Tekniske Universitet\\Year 1\\Semester 1\\Computational Tools for Data Science\\Project\\DATA\"\n",
    "\n",
    "# Loop through years from 2014 to 2019\n",
    "for year in range(2014, 2017):\n",
    "\n",
    "    file_path = os.path.join(base_path, f\"fox_{year}_output.csv\")\n",
    "    \n",
    "    # Check if the file exists for the given year\n",
    "    if os.path.exists(file_path):\n",
    "        # Read the CSV file\n",
    "        #semantic_analysis.lexicon_nltk(file_path)\n",
    "        semantic_scores_lexicon = semantic_analysis.roberta_semantic_algorithm_twitter(file_path)\n",
    "        \n",
    "        print(f\"File saved for year {year}\")\n",
    "    else:\n",
    "        print(f\"No file found for year {year}\")\n",
    "#'''"
   ]
  },
  {
   "cell_type": "code",
   "execution_count": 3,
   "metadata": {},
   "outputs": [
    {
     "name": "stdout",
     "output_type": "stream",
     "text": [
      "Classification in CNN 2014:\n",
      " negative    2\n",
      "neutral     2\n",
      "positive    1\n",
      "Name: Semantic roberta twitter, dtype: int64\n",
      "Classification in CNN 2015:\n",
      " neutral     13028\n",
      "negative     6898\n",
      "positive     1510\n",
      "Name: Semantic roberta twitter, dtype: int64\n",
      "Classification in CNN 2016:\n",
      " neutral     14410\n",
      "negative     7278\n",
      "positive     1526\n",
      "Name: Semantic roberta twitter, dtype: int64\n",
      "Classification in CNN 2017:\n",
      " neutral     16414\n",
      "negative     7195\n",
      "positive     1439\n",
      "Name: Semantic roberta twitter, dtype: int64\n",
      "Classification in CNN 2018:\n",
      " neutral     18736\n",
      "negative     8207\n",
      "positive     1829\n",
      "Name: Semantic roberta twitter, dtype: int64\n",
      "Classification in CNN 2019:\n",
      " neutral     24502\n",
      "negative     9784\n",
      "positive     3418\n",
      "Name: Semantic roberta twitter, dtype: int64\n"
     ]
    }
   ],
   "source": [
    "base_path = r\"C:\\Users\\storr\\OneDrive - Danmarks Tekniske Universitet\\Year 1\\Semester 1\\Computational Tools for Data Science\\Project\\SEMANTICS\"\n",
    "# Loop through years from 2014 to 2019\n",
    "for year in range(2014, 2020):\n",
    "    file_path = os.path.join(base_path, f\"cnn_{year}_semantics.csv\")\n",
    "    df = pd.read_csv(file_path)\n",
    "    print(f'Classification in CNN {year}:\\n', df['Semantic roberta twitter'].value_counts())\n",
    "    "
   ]
  },
  {
   "cell_type": "code",
   "execution_count": null,
   "metadata": {},
   "outputs": [
    {
     "name": "stdout",
     "output_type": "stream",
     "text": [
      "Classification in fox 2014:\n",
      " neutral     7541\n",
      "negative    2852\n",
      "positive    1142\n",
      "Name: Semantic roberta twitter, dtype: int64\n",
      "Classification in fox 2015:\n",
      " neutral     9658\n",
      "negative    4254\n",
      "positive    1831\n",
      "Name: Semantic roberta twitter, dtype: int64\n",
      "Classification in fox 2016:\n",
      " neutral     9735\n",
      "negative    5535\n",
      "positive    1797\n",
      "Name: Semantic roberta twitter, dtype: int64\n"
     ]
    }
   ],
   "source": [
    "for year in range(2014, 2017):\n",
    "    file_path = os.path.join(base_path, f\"fox_{year}_semantics.csv\")\n",
    "    df = pd.read_csv(file_path)\n",
    "    print(f'Classification in fox {year}:\\n', df['Semantic roberta twitter'].value_counts())"
   ]
  },
  {
   "cell_type": "code",
   "execution_count": 3,
   "metadata": {},
   "outputs": [],
   "source": [
    "large_file_path = r'C:\\Users\\storr\\OneDrive - Danmarks Tekniske Universitet\\Year 1\\Semester 1\\Computational Tools for Data Science\\Project\\DATA\\updated_dataframe_with_clusters_word2vec.csv'\n",
    "\n",
    "large_df = pd.read_csv(large_file_path)"
   ]
  },
  {
   "cell_type": "code",
   "execution_count": 4,
   "metadata": {},
   "outputs": [],
   "source": [
    "\n",
    "base_path = r\"C:\\Users\\storr\\OneDrive - Danmarks Tekniske Universitet\\Year 1\\Semester 1\\Computational Tools for Data Science\\Project\\SEMANTICS\"\n",
    "\n",
    "data_list = []\n",
    "# Loop through years from 2014 to 2019\n",
    "for year in range(2014, 2020):\n",
    "\n",
    "    file_path = os.path.join(base_path, f\"cnn_{year}_semantics.csv\")\n",
    "    new_data_df = pd.read_csv(file_path)\n",
    "    data_list.append(new_data_df)\n",
    "\n",
    "        \n",
    "    file_path = os.path.join(base_path, f\"fox_{year}_semantics.csv\")\n",
    "    new_data_df = pd.read_csv(file_path)\n",
    "    data_list.append(new_data_df)\n",
    "\n",
    "    file_path = os.path.join(base_path, f\"reuters_{year}_semantics.csv\")\n",
    "    new_data_df = pd.read_csv(file_path)\n",
    "    data_list.append(new_data_df)\n",
    "\n",
    "data_df = pd.concat(data_list, ignore_index = True)        \n",
    "\n"
   ]
  },
  {
   "cell_type": "code",
   "execution_count": 5,
   "metadata": {},
   "outputs": [],
   "source": [
    "large_df = semantic_analysis.merge_data(large_df, data_df, column = 'Semantic roberta twitter' )\n",
    "large_df = large_df.drop('Text', axis=1)\n",
    "large_df.to_csv(r\"C:\\Users\\storr\\OneDrive - Danmarks Tekniske Universitet\\Year 1\\Semester 1\\Computational Tools for Data Science\\Project\\DATA\\updated_dataframe_with_clusters_and_semantics.csv\")"
   ]
  }
 ],
 "metadata": {
  "kernelspec": {
   "display_name": "Python 3",
   "language": "python",
   "name": "python3"
  },
  "language_info": {
   "codemirror_mode": {
    "name": "ipython",
    "version": 3
   },
   "file_extension": ".py",
   "mimetype": "text/x-python",
   "name": "python",
   "nbconvert_exporter": "python",
   "pygments_lexer": "ipython3",
   "version": "3.11.4"
  }
 },
 "nbformat": 4,
 "nbformat_minor": 2
}
