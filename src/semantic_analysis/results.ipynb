{
 "cells": [
  {
   "cell_type": "code",
   "execution_count": 1,
   "metadata": {},
   "outputs": [
    {
     "name": "stderr",
     "output_type": "stream",
     "text": [
      "c:\\Users\\inest\\AppData\\Local\\Programs\\Python\\Python310\\lib\\site-packages\\tqdm\\auto.py:21: TqdmWarning: IProgress not found. Please update jupyter and ipywidgets. See https://ipywidgets.readthedocs.io/en/stable/user_install.html\n",
      "  from .autonotebook import tqdm as notebook_tqdm\n"
     ]
    }
   ],
   "source": [
    "import numpy as np\n",
    "import pandas as pd\n",
    "import sys\n",
    "import os\n",
    "sys.path.append('../src')\n",
    "sys.path.append('../data')\n",
    "import  semantic_analysis, vis_sentiment #, helper\n",
    "import os"
   ]
  },
  {
   "cell_type": "code",
   "execution_count": 9,
   "metadata": {},
   "outputs": [
    {
     "name": "stdout",
     "output_type": "stream",
     "text": [
      "No file found for year 2014\n",
      "No file found for year 2015\n",
      "No file found for year 2016\n"
     ]
    }
   ],
   "source": [
    "\n",
    "# Define the path\n",
    "base_path = r\"C:\\Users\\storr\\OneDrive - Danmarks Tekniske Universitet\\Year 1\\Semester 1\\Computational Tools for Data Science\\Project\\DATA\"\n",
    "\n",
    "# Loop through years from 2014 to 2019\n",
    "for year in range(2014, 2017):\n",
    "\n",
    "    file_path = os.path.join(base_path, f\"fox_{year}_output.csv\")\n",
    "    \n",
    "    # Check if the file exists for the given year\n",
    "    if os.path.exists(file_path):\n",
    "        # Read the CSV file\n",
    "        #semantic_analysis.lexicon_nltk(file_path)\n",
    "        semantic_scores_lexicon = semantic_analysis.roberta_semantic_algorithm_twitter(file_path)\n",
    "        \n",
    "        print(f\"File saved for year {year}\")\n",
    "    else:\n",
    "        print(f\"No file found for year {year}\")\n",
    "#'''"
   ]
  },
  {
   "cell_type": "code",
   "execution_count": 10,
   "metadata": {},
   "outputs": [
    {
     "ename": "FileNotFoundError",
     "evalue": "[Errno 2] No such file or directory: 'C:\\\\Users\\\\storr\\\\OneDrive - Danmarks Tekniske Universitet\\\\Year 1\\\\Semester 1\\\\Computational Tools for Data Science\\\\Project\\\\SEMANTICS\\\\cnn_2014_semantics.csv'",
     "output_type": "error",
     "traceback": [
      "\u001b[1;31m---------------------------------------------------------------------------\u001b[0m",
      "\u001b[1;31mFileNotFoundError\u001b[0m                         Traceback (most recent call last)",
      "\u001b[1;32mc:\\Users\\inest\\OneDrive - Danmarks Tekniske Universitet\\Semester I\\Computational Tools for Data Science\\computational_ds\\src\\semantic_analysis\\results.ipynb Cell 3\u001b[0m line \u001b[0;36m5\n\u001b[0;32m      <a href='vscode-notebook-cell:/c%3A/Users/inest/OneDrive%20-%20Danmarks%20Tekniske%20Universitet/Semester%20I/Computational%20Tools%20for%20Data%20Science/computational_ds/src/semantic_analysis/results.ipynb#W2sZmlsZQ%3D%3D?line=2'>3</a>\u001b[0m \u001b[39mfor\u001b[39;00m year \u001b[39min\u001b[39;00m \u001b[39mrange\u001b[39m(\u001b[39m2014\u001b[39m, \u001b[39m2020\u001b[39m):\n\u001b[0;32m      <a href='vscode-notebook-cell:/c%3A/Users/inest/OneDrive%20-%20Danmarks%20Tekniske%20Universitet/Semester%20I/Computational%20Tools%20for%20Data%20Science/computational_ds/src/semantic_analysis/results.ipynb#W2sZmlsZQ%3D%3D?line=3'>4</a>\u001b[0m     file_path \u001b[39m=\u001b[39m os\u001b[39m.\u001b[39mpath\u001b[39m.\u001b[39mjoin(base_path, \u001b[39mf\u001b[39m\u001b[39m\"\u001b[39m\u001b[39mcnn_\u001b[39m\u001b[39m{\u001b[39;00myear\u001b[39m}\u001b[39;00m\u001b[39m_semantics.csv\u001b[39m\u001b[39m\"\u001b[39m)\n\u001b[1;32m----> <a href='vscode-notebook-cell:/c%3A/Users/inest/OneDrive%20-%20Danmarks%20Tekniske%20Universitet/Semester%20I/Computational%20Tools%20for%20Data%20Science/computational_ds/src/semantic_analysis/results.ipynb#W2sZmlsZQ%3D%3D?line=4'>5</a>\u001b[0m     df \u001b[39m=\u001b[39m pd\u001b[39m.\u001b[39;49mread_csv(file_path)\n\u001b[0;32m      <a href='vscode-notebook-cell:/c%3A/Users/inest/OneDrive%20-%20Danmarks%20Tekniske%20Universitet/Semester%20I/Computational%20Tools%20for%20Data%20Science/computational_ds/src/semantic_analysis/results.ipynb#W2sZmlsZQ%3D%3D?line=5'>6</a>\u001b[0m     \u001b[39mprint\u001b[39m(\u001b[39mf\u001b[39m\u001b[39m'\u001b[39m\u001b[39mClassification in CNN \u001b[39m\u001b[39m{\u001b[39;00myear\u001b[39m}\u001b[39;00m\u001b[39m:\u001b[39m\u001b[39m\\n\u001b[39;00m\u001b[39m'\u001b[39m, df[\u001b[39m'\u001b[39m\u001b[39mSemantic roberta twitter\u001b[39m\u001b[39m'\u001b[39m]\u001b[39m.\u001b[39mvalue_counts())\n",
      "File \u001b[1;32mc:\\Users\\inest\\AppData\\Local\\Programs\\Python\\Python310\\lib\\site-packages\\pandas\\util\\_decorators.py:211\u001b[0m, in \u001b[0;36mdeprecate_kwarg.<locals>._deprecate_kwarg.<locals>.wrapper\u001b[1;34m(*args, **kwargs)\u001b[0m\n\u001b[0;32m    209\u001b[0m     \u001b[39melse\u001b[39;00m:\n\u001b[0;32m    210\u001b[0m         kwargs[new_arg_name] \u001b[39m=\u001b[39m new_arg_value\n\u001b[1;32m--> 211\u001b[0m \u001b[39mreturn\u001b[39;00m func(\u001b[39m*\u001b[39margs, \u001b[39m*\u001b[39m\u001b[39m*\u001b[39mkwargs)\n",
      "File \u001b[1;32mc:\\Users\\inest\\AppData\\Local\\Programs\\Python\\Python310\\lib\\site-packages\\pandas\\util\\_decorators.py:331\u001b[0m, in \u001b[0;36mdeprecate_nonkeyword_arguments.<locals>.decorate.<locals>.wrapper\u001b[1;34m(*args, **kwargs)\u001b[0m\n\u001b[0;32m    325\u001b[0m \u001b[39mif\u001b[39;00m \u001b[39mlen\u001b[39m(args) \u001b[39m>\u001b[39m num_allow_args:\n\u001b[0;32m    326\u001b[0m     warnings\u001b[39m.\u001b[39mwarn(\n\u001b[0;32m    327\u001b[0m         msg\u001b[39m.\u001b[39mformat(arguments\u001b[39m=\u001b[39m_format_argument_list(allow_args)),\n\u001b[0;32m    328\u001b[0m         \u001b[39mFutureWarning\u001b[39;00m,\n\u001b[0;32m    329\u001b[0m         stacklevel\u001b[39m=\u001b[39mfind_stack_level(),\n\u001b[0;32m    330\u001b[0m     )\n\u001b[1;32m--> 331\u001b[0m \u001b[39mreturn\u001b[39;00m func(\u001b[39m*\u001b[39margs, \u001b[39m*\u001b[39m\u001b[39m*\u001b[39mkwargs)\n",
      "File \u001b[1;32mc:\\Users\\inest\\AppData\\Local\\Programs\\Python\\Python310\\lib\\site-packages\\pandas\\io\\parsers\\readers.py:950\u001b[0m, in \u001b[0;36mread_csv\u001b[1;34m(filepath_or_buffer, sep, delimiter, header, names, index_col, usecols, squeeze, prefix, mangle_dupe_cols, dtype, engine, converters, true_values, false_values, skipinitialspace, skiprows, skipfooter, nrows, na_values, keep_default_na, na_filter, verbose, skip_blank_lines, parse_dates, infer_datetime_format, keep_date_col, date_parser, dayfirst, cache_dates, iterator, chunksize, compression, thousands, decimal, lineterminator, quotechar, quoting, doublequote, escapechar, comment, encoding, encoding_errors, dialect, error_bad_lines, warn_bad_lines, on_bad_lines, delim_whitespace, low_memory, memory_map, float_precision, storage_options)\u001b[0m\n\u001b[0;32m    935\u001b[0m kwds_defaults \u001b[39m=\u001b[39m _refine_defaults_read(\n\u001b[0;32m    936\u001b[0m     dialect,\n\u001b[0;32m    937\u001b[0m     delimiter,\n\u001b[1;32m   (...)\u001b[0m\n\u001b[0;32m    946\u001b[0m     defaults\u001b[39m=\u001b[39m{\u001b[39m\"\u001b[39m\u001b[39mdelimiter\u001b[39m\u001b[39m\"\u001b[39m: \u001b[39m\"\u001b[39m\u001b[39m,\u001b[39m\u001b[39m\"\u001b[39m},\n\u001b[0;32m    947\u001b[0m )\n\u001b[0;32m    948\u001b[0m kwds\u001b[39m.\u001b[39mupdate(kwds_defaults)\n\u001b[1;32m--> 950\u001b[0m \u001b[39mreturn\u001b[39;00m _read(filepath_or_buffer, kwds)\n",
      "File \u001b[1;32mc:\\Users\\inest\\AppData\\Local\\Programs\\Python\\Python310\\lib\\site-packages\\pandas\\io\\parsers\\readers.py:605\u001b[0m, in \u001b[0;36m_read\u001b[1;34m(filepath_or_buffer, kwds)\u001b[0m\n\u001b[0;32m    602\u001b[0m _validate_names(kwds\u001b[39m.\u001b[39mget(\u001b[39m\"\u001b[39m\u001b[39mnames\u001b[39m\u001b[39m\"\u001b[39m, \u001b[39mNone\u001b[39;00m))\n\u001b[0;32m    604\u001b[0m \u001b[39m# Create the parser.\u001b[39;00m\n\u001b[1;32m--> 605\u001b[0m parser \u001b[39m=\u001b[39m TextFileReader(filepath_or_buffer, \u001b[39m*\u001b[39m\u001b[39m*\u001b[39mkwds)\n\u001b[0;32m    607\u001b[0m \u001b[39mif\u001b[39;00m chunksize \u001b[39mor\u001b[39;00m iterator:\n\u001b[0;32m    608\u001b[0m     \u001b[39mreturn\u001b[39;00m parser\n",
      "File \u001b[1;32mc:\\Users\\inest\\AppData\\Local\\Programs\\Python\\Python310\\lib\\site-packages\\pandas\\io\\parsers\\readers.py:1442\u001b[0m, in \u001b[0;36mTextFileReader.__init__\u001b[1;34m(self, f, engine, **kwds)\u001b[0m\n\u001b[0;32m   1439\u001b[0m     \u001b[39mself\u001b[39m\u001b[39m.\u001b[39moptions[\u001b[39m\"\u001b[39m\u001b[39mhas_index_names\u001b[39m\u001b[39m\"\u001b[39m] \u001b[39m=\u001b[39m kwds[\u001b[39m\"\u001b[39m\u001b[39mhas_index_names\u001b[39m\u001b[39m\"\u001b[39m]\n\u001b[0;32m   1441\u001b[0m \u001b[39mself\u001b[39m\u001b[39m.\u001b[39mhandles: IOHandles \u001b[39m|\u001b[39m \u001b[39mNone\u001b[39;00m \u001b[39m=\u001b[39m \u001b[39mNone\u001b[39;00m\n\u001b[1;32m-> 1442\u001b[0m \u001b[39mself\u001b[39m\u001b[39m.\u001b[39m_engine \u001b[39m=\u001b[39m \u001b[39mself\u001b[39;49m\u001b[39m.\u001b[39;49m_make_engine(f, \u001b[39mself\u001b[39;49m\u001b[39m.\u001b[39;49mengine)\n",
      "File \u001b[1;32mc:\\Users\\inest\\AppData\\Local\\Programs\\Python\\Python310\\lib\\site-packages\\pandas\\io\\parsers\\readers.py:1735\u001b[0m, in \u001b[0;36mTextFileReader._make_engine\u001b[1;34m(self, f, engine)\u001b[0m\n\u001b[0;32m   1733\u001b[0m     \u001b[39mif\u001b[39;00m \u001b[39m\"\u001b[39m\u001b[39mb\u001b[39m\u001b[39m\"\u001b[39m \u001b[39mnot\u001b[39;00m \u001b[39min\u001b[39;00m mode:\n\u001b[0;32m   1734\u001b[0m         mode \u001b[39m+\u001b[39m\u001b[39m=\u001b[39m \u001b[39m\"\u001b[39m\u001b[39mb\u001b[39m\u001b[39m\"\u001b[39m\n\u001b[1;32m-> 1735\u001b[0m \u001b[39mself\u001b[39m\u001b[39m.\u001b[39mhandles \u001b[39m=\u001b[39m get_handle(\n\u001b[0;32m   1736\u001b[0m     f,\n\u001b[0;32m   1737\u001b[0m     mode,\n\u001b[0;32m   1738\u001b[0m     encoding\u001b[39m=\u001b[39;49m\u001b[39mself\u001b[39;49m\u001b[39m.\u001b[39;49moptions\u001b[39m.\u001b[39;49mget(\u001b[39m\"\u001b[39;49m\u001b[39mencoding\u001b[39;49m\u001b[39m\"\u001b[39;49m, \u001b[39mNone\u001b[39;49;00m),\n\u001b[0;32m   1739\u001b[0m     compression\u001b[39m=\u001b[39;49m\u001b[39mself\u001b[39;49m\u001b[39m.\u001b[39;49moptions\u001b[39m.\u001b[39;49mget(\u001b[39m\"\u001b[39;49m\u001b[39mcompression\u001b[39;49m\u001b[39m\"\u001b[39;49m, \u001b[39mNone\u001b[39;49;00m),\n\u001b[0;32m   1740\u001b[0m     memory_map\u001b[39m=\u001b[39;49m\u001b[39mself\u001b[39;49m\u001b[39m.\u001b[39;49moptions\u001b[39m.\u001b[39;49mget(\u001b[39m\"\u001b[39;49m\u001b[39mmemory_map\u001b[39;49m\u001b[39m\"\u001b[39;49m, \u001b[39mFalse\u001b[39;49;00m),\n\u001b[0;32m   1741\u001b[0m     is_text\u001b[39m=\u001b[39;49mis_text,\n\u001b[0;32m   1742\u001b[0m     errors\u001b[39m=\u001b[39;49m\u001b[39mself\u001b[39;49m\u001b[39m.\u001b[39;49moptions\u001b[39m.\u001b[39;49mget(\u001b[39m\"\u001b[39;49m\u001b[39mencoding_errors\u001b[39;49m\u001b[39m\"\u001b[39;49m, \u001b[39m\"\u001b[39;49m\u001b[39mstrict\u001b[39;49m\u001b[39m\"\u001b[39;49m),\n\u001b[0;32m   1743\u001b[0m     storage_options\u001b[39m=\u001b[39;49m\u001b[39mself\u001b[39;49m\u001b[39m.\u001b[39;49moptions\u001b[39m.\u001b[39;49mget(\u001b[39m\"\u001b[39;49m\u001b[39mstorage_options\u001b[39;49m\u001b[39m\"\u001b[39;49m, \u001b[39mNone\u001b[39;49;00m),\n\u001b[0;32m   1744\u001b[0m )\n\u001b[0;32m   1745\u001b[0m \u001b[39massert\u001b[39;00m \u001b[39mself\u001b[39m\u001b[39m.\u001b[39mhandles \u001b[39mis\u001b[39;00m \u001b[39mnot\u001b[39;00m \u001b[39mNone\u001b[39;00m\n\u001b[0;32m   1746\u001b[0m f \u001b[39m=\u001b[39m \u001b[39mself\u001b[39m\u001b[39m.\u001b[39mhandles\u001b[39m.\u001b[39mhandle\n",
      "File \u001b[1;32mc:\\Users\\inest\\AppData\\Local\\Programs\\Python\\Python310\\lib\\site-packages\\pandas\\io\\common.py:856\u001b[0m, in \u001b[0;36mget_handle\u001b[1;34m(path_or_buf, mode, encoding, compression, memory_map, is_text, errors, storage_options)\u001b[0m\n\u001b[0;32m    851\u001b[0m \u001b[39melif\u001b[39;00m \u001b[39misinstance\u001b[39m(handle, \u001b[39mstr\u001b[39m):\n\u001b[0;32m    852\u001b[0m     \u001b[39m# Check whether the filename is to be opened in binary mode.\u001b[39;00m\n\u001b[0;32m    853\u001b[0m     \u001b[39m# Binary mode does not support 'encoding' and 'newline'.\u001b[39;00m\n\u001b[0;32m    854\u001b[0m     \u001b[39mif\u001b[39;00m ioargs\u001b[39m.\u001b[39mencoding \u001b[39mand\u001b[39;00m \u001b[39m\"\u001b[39m\u001b[39mb\u001b[39m\u001b[39m\"\u001b[39m \u001b[39mnot\u001b[39;00m \u001b[39min\u001b[39;00m ioargs\u001b[39m.\u001b[39mmode:\n\u001b[0;32m    855\u001b[0m         \u001b[39m# Encoding\u001b[39;00m\n\u001b[1;32m--> 856\u001b[0m         handle \u001b[39m=\u001b[39m \u001b[39mopen\u001b[39;49m(\n\u001b[0;32m    857\u001b[0m             handle,\n\u001b[0;32m    858\u001b[0m             ioargs\u001b[39m.\u001b[39;49mmode,\n\u001b[0;32m    859\u001b[0m             encoding\u001b[39m=\u001b[39;49mioargs\u001b[39m.\u001b[39;49mencoding,\n\u001b[0;32m    860\u001b[0m             errors\u001b[39m=\u001b[39;49merrors,\n\u001b[0;32m    861\u001b[0m             newline\u001b[39m=\u001b[39;49m\u001b[39m\"\u001b[39;49m\u001b[39m\"\u001b[39;49m,\n\u001b[0;32m    862\u001b[0m         )\n\u001b[0;32m    863\u001b[0m     \u001b[39melse\u001b[39;00m:\n\u001b[0;32m    864\u001b[0m         \u001b[39m# Binary mode\u001b[39;00m\n\u001b[0;32m    865\u001b[0m         handle \u001b[39m=\u001b[39m \u001b[39mopen\u001b[39m(handle, ioargs\u001b[39m.\u001b[39mmode)\n",
      "\u001b[1;31mFileNotFoundError\u001b[0m: [Errno 2] No such file or directory: 'C:\\\\Users\\\\storr\\\\OneDrive - Danmarks Tekniske Universitet\\\\Year 1\\\\Semester 1\\\\Computational Tools for Data Science\\\\Project\\\\SEMANTICS\\\\cnn_2014_semantics.csv'"
     ]
    }
   ],
   "source": [
    "base_path = r\"C:\\Users\\storr\\OneDrive - Danmarks Tekniske Universitet\\Year 1\\Semester 1\\Computational Tools for Data Science\\Project\\SEMANTICS\"\n",
    "# Loop through years from 2014 to 2019\n",
    "for year in range(2014, 2020):\n",
    "    file_path = os.path.join(base_path, f\"cnn_{year}_semantics.csv\")\n",
    "    df = pd.read_csv(file_path)\n",
    "    print(f'Classification in CNN {year}:\\n', df['Semantic roberta twitter'].value_counts())\n",
    "    "
   ]
  },
  {
   "cell_type": "code",
   "execution_count": 14,
   "metadata": {},
   "outputs": [
    {
     "ename": "FileNotFoundError",
     "evalue": "[Errno 2] No such file or directory: 'C:\\\\Users\\\\inest\\\\OneDrive - Danmarks Tekniske Universitet\\\\Semester I\\\\Computational Tools for Data Science\\\\data\\\\reuters_2014_semantics.csv'",
     "output_type": "error",
     "traceback": [
      "\u001b[1;31m---------------------------------------------------------------------------\u001b[0m",
      "\u001b[1;31mFileNotFoundError\u001b[0m                         Traceback (most recent call last)",
      "\u001b[1;32mc:\\Users\\inest\\OneDrive - Danmarks Tekniske Universitet\\Semester I\\Computational Tools for Data Science\\computational_ds\\src\\semantic_analysis\\results.ipynb Cell 4\u001b[0m line \u001b[0;36m3\n\u001b[0;32m      <a href='vscode-notebook-cell:/c%3A/Users/inest/OneDrive%20-%20Danmarks%20Tekniske%20Universitet/Semester%20I/Computational%20Tools%20for%20Data%20Science/computational_ds/src/semantic_analysis/results.ipynb#W3sZmlsZQ%3D%3D?line=0'>1</a>\u001b[0m \u001b[39mfor\u001b[39;00m year \u001b[39min\u001b[39;00m \u001b[39mrange\u001b[39m(\u001b[39m2014\u001b[39m, \u001b[39m2017\u001b[39m):\n\u001b[0;32m      <a href='vscode-notebook-cell:/c%3A/Users/inest/OneDrive%20-%20Danmarks%20Tekniske%20Universitet/Semester%20I/Computational%20Tools%20for%20Data%20Science/computational_ds/src/semantic_analysis/results.ipynb#W3sZmlsZQ%3D%3D?line=1'>2</a>\u001b[0m     file_path \u001b[39m=\u001b[39m os\u001b[39m.\u001b[39mpath\u001b[39m.\u001b[39mjoin(base_path, \u001b[39mf\u001b[39m\u001b[39m\"\u001b[39m\u001b[39mreuters_\u001b[39m\u001b[39m{\u001b[39;00myear\u001b[39m}\u001b[39;00m\u001b[39m_semantics.csv\u001b[39m\u001b[39m\"\u001b[39m)\n\u001b[1;32m----> <a href='vscode-notebook-cell:/c%3A/Users/inest/OneDrive%20-%20Danmarks%20Tekniske%20Universitet/Semester%20I/Computational%20Tools%20for%20Data%20Science/computational_ds/src/semantic_analysis/results.ipynb#W3sZmlsZQ%3D%3D?line=2'>3</a>\u001b[0m     df \u001b[39m=\u001b[39m pd\u001b[39m.\u001b[39;49mread_csv(file_path)\n\u001b[0;32m      <a href='vscode-notebook-cell:/c%3A/Users/inest/OneDrive%20-%20Danmarks%20Tekniske%20Universitet/Semester%20I/Computational%20Tools%20for%20Data%20Science/computational_ds/src/semantic_analysis/results.ipynb#W3sZmlsZQ%3D%3D?line=3'>4</a>\u001b[0m     \u001b[39mprint\u001b[39m(\u001b[39mf\u001b[39m\u001b[39m'\u001b[39m\u001b[39mClassification in fox \u001b[39m\u001b[39m{\u001b[39;00myear\u001b[39m}\u001b[39;00m\u001b[39m:\u001b[39m\u001b[39m\\n\u001b[39;00m\u001b[39m'\u001b[39m, df[\u001b[39m'\u001b[39m\u001b[39mSemantic roberta twitter\u001b[39m\u001b[39m'\u001b[39m]\u001b[39m.\u001b[39mvalue_counts())\n",
      "File \u001b[1;32mc:\\Users\\inest\\AppData\\Local\\Programs\\Python\\Python310\\lib\\site-packages\\pandas\\util\\_decorators.py:211\u001b[0m, in \u001b[0;36mdeprecate_kwarg.<locals>._deprecate_kwarg.<locals>.wrapper\u001b[1;34m(*args, **kwargs)\u001b[0m\n\u001b[0;32m    209\u001b[0m     \u001b[39melse\u001b[39;00m:\n\u001b[0;32m    210\u001b[0m         kwargs[new_arg_name] \u001b[39m=\u001b[39m new_arg_value\n\u001b[1;32m--> 211\u001b[0m \u001b[39mreturn\u001b[39;00m func(\u001b[39m*\u001b[39margs, \u001b[39m*\u001b[39m\u001b[39m*\u001b[39mkwargs)\n",
      "File \u001b[1;32mc:\\Users\\inest\\AppData\\Local\\Programs\\Python\\Python310\\lib\\site-packages\\pandas\\util\\_decorators.py:331\u001b[0m, in \u001b[0;36mdeprecate_nonkeyword_arguments.<locals>.decorate.<locals>.wrapper\u001b[1;34m(*args, **kwargs)\u001b[0m\n\u001b[0;32m    325\u001b[0m \u001b[39mif\u001b[39;00m \u001b[39mlen\u001b[39m(args) \u001b[39m>\u001b[39m num_allow_args:\n\u001b[0;32m    326\u001b[0m     warnings\u001b[39m.\u001b[39mwarn(\n\u001b[0;32m    327\u001b[0m         msg\u001b[39m.\u001b[39mformat(arguments\u001b[39m=\u001b[39m_format_argument_list(allow_args)),\n\u001b[0;32m    328\u001b[0m         \u001b[39mFutureWarning\u001b[39;00m,\n\u001b[0;32m    329\u001b[0m         stacklevel\u001b[39m=\u001b[39mfind_stack_level(),\n\u001b[0;32m    330\u001b[0m     )\n\u001b[1;32m--> 331\u001b[0m \u001b[39mreturn\u001b[39;00m func(\u001b[39m*\u001b[39margs, \u001b[39m*\u001b[39m\u001b[39m*\u001b[39mkwargs)\n",
      "File \u001b[1;32mc:\\Users\\inest\\AppData\\Local\\Programs\\Python\\Python310\\lib\\site-packages\\pandas\\io\\parsers\\readers.py:950\u001b[0m, in \u001b[0;36mread_csv\u001b[1;34m(filepath_or_buffer, sep, delimiter, header, names, index_col, usecols, squeeze, prefix, mangle_dupe_cols, dtype, engine, converters, true_values, false_values, skipinitialspace, skiprows, skipfooter, nrows, na_values, keep_default_na, na_filter, verbose, skip_blank_lines, parse_dates, infer_datetime_format, keep_date_col, date_parser, dayfirst, cache_dates, iterator, chunksize, compression, thousands, decimal, lineterminator, quotechar, quoting, doublequote, escapechar, comment, encoding, encoding_errors, dialect, error_bad_lines, warn_bad_lines, on_bad_lines, delim_whitespace, low_memory, memory_map, float_precision, storage_options)\u001b[0m\n\u001b[0;32m    935\u001b[0m kwds_defaults \u001b[39m=\u001b[39m _refine_defaults_read(\n\u001b[0;32m    936\u001b[0m     dialect,\n\u001b[0;32m    937\u001b[0m     delimiter,\n\u001b[1;32m   (...)\u001b[0m\n\u001b[0;32m    946\u001b[0m     defaults\u001b[39m=\u001b[39m{\u001b[39m\"\u001b[39m\u001b[39mdelimiter\u001b[39m\u001b[39m\"\u001b[39m: \u001b[39m\"\u001b[39m\u001b[39m,\u001b[39m\u001b[39m\"\u001b[39m},\n\u001b[0;32m    947\u001b[0m )\n\u001b[0;32m    948\u001b[0m kwds\u001b[39m.\u001b[39mupdate(kwds_defaults)\n\u001b[1;32m--> 950\u001b[0m \u001b[39mreturn\u001b[39;00m _read(filepath_or_buffer, kwds)\n",
      "File \u001b[1;32mc:\\Users\\inest\\AppData\\Local\\Programs\\Python\\Python310\\lib\\site-packages\\pandas\\io\\parsers\\readers.py:605\u001b[0m, in \u001b[0;36m_read\u001b[1;34m(filepath_or_buffer, kwds)\u001b[0m\n\u001b[0;32m    602\u001b[0m _validate_names(kwds\u001b[39m.\u001b[39mget(\u001b[39m\"\u001b[39m\u001b[39mnames\u001b[39m\u001b[39m\"\u001b[39m, \u001b[39mNone\u001b[39;00m))\n\u001b[0;32m    604\u001b[0m \u001b[39m# Create the parser.\u001b[39;00m\n\u001b[1;32m--> 605\u001b[0m parser \u001b[39m=\u001b[39m TextFileReader(filepath_or_buffer, \u001b[39m*\u001b[39m\u001b[39m*\u001b[39mkwds)\n\u001b[0;32m    607\u001b[0m \u001b[39mif\u001b[39;00m chunksize \u001b[39mor\u001b[39;00m iterator:\n\u001b[0;32m    608\u001b[0m     \u001b[39mreturn\u001b[39;00m parser\n",
      "File \u001b[1;32mc:\\Users\\inest\\AppData\\Local\\Programs\\Python\\Python310\\lib\\site-packages\\pandas\\io\\parsers\\readers.py:1442\u001b[0m, in \u001b[0;36mTextFileReader.__init__\u001b[1;34m(self, f, engine, **kwds)\u001b[0m\n\u001b[0;32m   1439\u001b[0m     \u001b[39mself\u001b[39m\u001b[39m.\u001b[39moptions[\u001b[39m\"\u001b[39m\u001b[39mhas_index_names\u001b[39m\u001b[39m\"\u001b[39m] \u001b[39m=\u001b[39m kwds[\u001b[39m\"\u001b[39m\u001b[39mhas_index_names\u001b[39m\u001b[39m\"\u001b[39m]\n\u001b[0;32m   1441\u001b[0m \u001b[39mself\u001b[39m\u001b[39m.\u001b[39mhandles: IOHandles \u001b[39m|\u001b[39m \u001b[39mNone\u001b[39;00m \u001b[39m=\u001b[39m \u001b[39mNone\u001b[39;00m\n\u001b[1;32m-> 1442\u001b[0m \u001b[39mself\u001b[39m\u001b[39m.\u001b[39m_engine \u001b[39m=\u001b[39m \u001b[39mself\u001b[39;49m\u001b[39m.\u001b[39;49m_make_engine(f, \u001b[39mself\u001b[39;49m\u001b[39m.\u001b[39;49mengine)\n",
      "File \u001b[1;32mc:\\Users\\inest\\AppData\\Local\\Programs\\Python\\Python310\\lib\\site-packages\\pandas\\io\\parsers\\readers.py:1735\u001b[0m, in \u001b[0;36mTextFileReader._make_engine\u001b[1;34m(self, f, engine)\u001b[0m\n\u001b[0;32m   1733\u001b[0m     \u001b[39mif\u001b[39;00m \u001b[39m\"\u001b[39m\u001b[39mb\u001b[39m\u001b[39m\"\u001b[39m \u001b[39mnot\u001b[39;00m \u001b[39min\u001b[39;00m mode:\n\u001b[0;32m   1734\u001b[0m         mode \u001b[39m+\u001b[39m\u001b[39m=\u001b[39m \u001b[39m\"\u001b[39m\u001b[39mb\u001b[39m\u001b[39m\"\u001b[39m\n\u001b[1;32m-> 1735\u001b[0m \u001b[39mself\u001b[39m\u001b[39m.\u001b[39mhandles \u001b[39m=\u001b[39m get_handle(\n\u001b[0;32m   1736\u001b[0m     f,\n\u001b[0;32m   1737\u001b[0m     mode,\n\u001b[0;32m   1738\u001b[0m     encoding\u001b[39m=\u001b[39;49m\u001b[39mself\u001b[39;49m\u001b[39m.\u001b[39;49moptions\u001b[39m.\u001b[39;49mget(\u001b[39m\"\u001b[39;49m\u001b[39mencoding\u001b[39;49m\u001b[39m\"\u001b[39;49m, \u001b[39mNone\u001b[39;49;00m),\n\u001b[0;32m   1739\u001b[0m     compression\u001b[39m=\u001b[39;49m\u001b[39mself\u001b[39;49m\u001b[39m.\u001b[39;49moptions\u001b[39m.\u001b[39;49mget(\u001b[39m\"\u001b[39;49m\u001b[39mcompression\u001b[39;49m\u001b[39m\"\u001b[39;49m, \u001b[39mNone\u001b[39;49;00m),\n\u001b[0;32m   1740\u001b[0m     memory_map\u001b[39m=\u001b[39;49m\u001b[39mself\u001b[39;49m\u001b[39m.\u001b[39;49moptions\u001b[39m.\u001b[39;49mget(\u001b[39m\"\u001b[39;49m\u001b[39mmemory_map\u001b[39;49m\u001b[39m\"\u001b[39;49m, \u001b[39mFalse\u001b[39;49;00m),\n\u001b[0;32m   1741\u001b[0m     is_text\u001b[39m=\u001b[39;49mis_text,\n\u001b[0;32m   1742\u001b[0m     errors\u001b[39m=\u001b[39;49m\u001b[39mself\u001b[39;49m\u001b[39m.\u001b[39;49moptions\u001b[39m.\u001b[39;49mget(\u001b[39m\"\u001b[39;49m\u001b[39mencoding_errors\u001b[39;49m\u001b[39m\"\u001b[39;49m, \u001b[39m\"\u001b[39;49m\u001b[39mstrict\u001b[39;49m\u001b[39m\"\u001b[39;49m),\n\u001b[0;32m   1743\u001b[0m     storage_options\u001b[39m=\u001b[39;49m\u001b[39mself\u001b[39;49m\u001b[39m.\u001b[39;49moptions\u001b[39m.\u001b[39;49mget(\u001b[39m\"\u001b[39;49m\u001b[39mstorage_options\u001b[39;49m\u001b[39m\"\u001b[39;49m, \u001b[39mNone\u001b[39;49;00m),\n\u001b[0;32m   1744\u001b[0m )\n\u001b[0;32m   1745\u001b[0m \u001b[39massert\u001b[39;00m \u001b[39mself\u001b[39m\u001b[39m.\u001b[39mhandles \u001b[39mis\u001b[39;00m \u001b[39mnot\u001b[39;00m \u001b[39mNone\u001b[39;00m\n\u001b[0;32m   1746\u001b[0m f \u001b[39m=\u001b[39m \u001b[39mself\u001b[39m\u001b[39m.\u001b[39mhandles\u001b[39m.\u001b[39mhandle\n",
      "File \u001b[1;32mc:\\Users\\inest\\AppData\\Local\\Programs\\Python\\Python310\\lib\\site-packages\\pandas\\io\\common.py:856\u001b[0m, in \u001b[0;36mget_handle\u001b[1;34m(path_or_buf, mode, encoding, compression, memory_map, is_text, errors, storage_options)\u001b[0m\n\u001b[0;32m    851\u001b[0m \u001b[39melif\u001b[39;00m \u001b[39misinstance\u001b[39m(handle, \u001b[39mstr\u001b[39m):\n\u001b[0;32m    852\u001b[0m     \u001b[39m# Check whether the filename is to be opened in binary mode.\u001b[39;00m\n\u001b[0;32m    853\u001b[0m     \u001b[39m# Binary mode does not support 'encoding' and 'newline'.\u001b[39;00m\n\u001b[0;32m    854\u001b[0m     \u001b[39mif\u001b[39;00m ioargs\u001b[39m.\u001b[39mencoding \u001b[39mand\u001b[39;00m \u001b[39m\"\u001b[39m\u001b[39mb\u001b[39m\u001b[39m\"\u001b[39m \u001b[39mnot\u001b[39;00m \u001b[39min\u001b[39;00m ioargs\u001b[39m.\u001b[39mmode:\n\u001b[0;32m    855\u001b[0m         \u001b[39m# Encoding\u001b[39;00m\n\u001b[1;32m--> 856\u001b[0m         handle \u001b[39m=\u001b[39m \u001b[39mopen\u001b[39;49m(\n\u001b[0;32m    857\u001b[0m             handle,\n\u001b[0;32m    858\u001b[0m             ioargs\u001b[39m.\u001b[39;49mmode,\n\u001b[0;32m    859\u001b[0m             encoding\u001b[39m=\u001b[39;49mioargs\u001b[39m.\u001b[39;49mencoding,\n\u001b[0;32m    860\u001b[0m             errors\u001b[39m=\u001b[39;49merrors,\n\u001b[0;32m    861\u001b[0m             newline\u001b[39m=\u001b[39;49m\u001b[39m\"\u001b[39;49m\u001b[39m\"\u001b[39;49m,\n\u001b[0;32m    862\u001b[0m         )\n\u001b[0;32m    863\u001b[0m     \u001b[39melse\u001b[39;00m:\n\u001b[0;32m    864\u001b[0m         \u001b[39m# Binary mode\u001b[39;00m\n\u001b[0;32m    865\u001b[0m         handle \u001b[39m=\u001b[39m \u001b[39mopen\u001b[39m(handle, ioargs\u001b[39m.\u001b[39mmode)\n",
      "\u001b[1;31mFileNotFoundError\u001b[0m: [Errno 2] No such file or directory: 'C:\\\\Users\\\\inest\\\\OneDrive - Danmarks Tekniske Universitet\\\\Semester I\\\\Computational Tools for Data Science\\\\data\\\\reuters_2014_semantics.csv'"
     ]
    }
   ],
   "source": [
    "for year in range(2014, 2017):\n",
    "    file_path = os.path.join(base_path, f\"reuters_{year}_semantics.csv\")\n",
    "    df = pd.read_csv(file_path)\n",
    "    print(f'Classification in fox {year}:\\n', df['Semantic roberta twitter'].value_counts())"
   ]
  },
  {
   "cell_type": "code",
   "execution_count": 2,
   "metadata": {},
   "outputs": [],
   "source": [
    "large_file_path = r'C:\\Users\\inest\\OneDrive - Danmarks Tekniske Universitet\\Semester I\\Computational Tools for Data Science\\data\\updated_dataframe_with_clusters_word2vec.csv'\n",
    "\n",
    "large_df = pd.read_csv(large_file_path)"
   ]
  },
  {
   "cell_type": "code",
   "execution_count": 3,
   "execution_count": 8,
   "metadata": {},
   "outputs": [],
   "source": [
    "for year in range(2014, 2020):\n",
    "\n",
    "    file_path = os.path.join(base_path, f\"fox_final_output_{year}.csv\")\n",
    "    data_df = pd.read_csv(file_path)\n",
    "    data_df = data_df.rename(columns={'Sentiment values roberta': 'Sentiment value roberta'})\n",
    "\n",
    "    data_df.to_csv(rf\"C:\\Users\\inest\\OneDrive - Danmarks Tekniske Universitet\\Semester I\\Computational Tools for Data Science\\data\\fox_final_output_{year}.csv\")\n"
   ]
  },
  {
   "cell_type": "code",
   "execution_count": 9,
   "metadata": {},
   "outputs": [
    {
     "name": "stdout",
     "output_type": "stream",
     "text": [
      "Saved for 2014\n",
      "Saved for 2015\n",
      "Saved for 2016\n",
      "Saved for 2017\n",
      "Saved for 2018\n",
      "Saved for 2019\n"
     ]
    }
   ],
   "source": [
    "base_path = r\"C:\\Users\\inest\\OneDrive - Danmarks Tekniske Universitet\\Semester I\\Computational Tools for Data Science\\data\"\n",
    "\n",
    "for year in range(2014, 2020):\n",
    "\n",
    "    file_path = os.path.join(base_path, f\"reuters_final_output_{year}.csv\")\n",
    "    data_df = pd.read_csv(file_path)\n",
    "\n",
    "    data_df = data_df[[\n",
    "    'ID', 'Headline', 'Date', 'Link', 'Organization',\n",
    "    'Sentiment scores lexicon', 'Sentiment value lexicon', 'Sentiment lexicon',\n",
    "    'Semantic values roberta twitter', 'Semantic roberta twitter', 'Sentiment value roberta'\n",
    "    ]]\n",
    "\n",
    "    data_df.to_csv(rf\"C:\\Users\\inest\\OneDrive - Danmarks Tekniske Universitet\\Semester I\\Computational Tools for Data Science\\data\\reuters_final_output_{year}.csv\")\n",
    "    print(f\"Saved for {year}\")\n",
    "\n",
    "    \n"
   ]
  },
  {
   "cell_type": "code",
   "execution_count": 22,
   "metadata": {},
   "outputs": [
    {
     "name": "stdout",
     "output_type": "stream",
     "text": [
      "Classification in fox 2018:\n",
      " Unnamed: 0                         0\n",
      "ID                                 0\n",
      "Headline                           0\n",
      "Date                               0\n",
      "Link                               0\n",
      "Organization                       0\n",
      "Sentiment scores lexicon           0\n",
      "Sentiment value lexicon            0\n",
      "Sentiment lexicon                  0\n",
      "Semantic values roberta twitter    0\n",
      "Semantic roberta twitter           0\n",
      "Sentiment value roberta            0\n",
      "dtype: int64\n",
      "Classification in fox 2019:\n",
      " Unnamed: 0                         0\n",
      "ID                                 0\n",
      "Headline                           0\n",
      "Date                               0\n",
      "Link                               0\n",
      "Organization                       0\n",
      "Sentiment scores lexicon           0\n",
      "Sentiment value lexicon            0\n",
      "Sentiment lexicon                  0\n",
      "Semantic values roberta twitter    0\n",
      "Semantic roberta twitter           0\n",
      "Sentiment value roberta            0\n",
      "dtype: int64\n"
     ]
    }
   ],
   "source": [
    "base_path = r\"C:\\Users\\inest\\OneDrive - Danmarks Tekniske Universitet\\Semester I\\Computational Tools for Data Science\\data\"\n",
    "\n",
    "for year in range(2018, 2020):\n",
    "    file_path = os.path.join(base_path, f\"reuters_final_output_{year}.csv\")\n",
    "    df = pd.read_csv(file_path)\n",
    "    print(f'Classification in fox {year}:\\n', df.isna().sum())"
   ]
  },
  {
   "cell_type": "code",
   "execution_count": 4,
   "metadata": {},
   "outputs": [
    {
     "ename": "NameError",
     "evalue": "name 'data_df' is not defined",
     "output_type": "error",
     "traceback": [
      "\u001b[1;31m---------------------------------------------------------------------------\u001b[0m",
      "\u001b[1;31mNameError\u001b[0m                                 Traceback (most recent call last)",
      "\u001b[1;32mc:\\Users\\storr\\OneDrive - Danmarks Tekniske Universitet\\Year 1\\Semester 1\\Computational Tools for Data Science\\Project\\computational_ds\\src\\semantic_analysis\\results.ipynb Cell 6\u001b[0m line \u001b[0;36m1\n\u001b[1;32m----> <a href='vscode-notebook-cell:/c%3A/Users/storr/OneDrive%20-%20Danmarks%20Tekniske%20Universitet/Year%201/Semester%201/Computational%20Tools%20for%20Data%20Science/Project/computational_ds/src/semantic_analysis/results.ipynb#W6sZmlsZQ%3D%3D?line=0'>1</a>\u001b[0m large_df \u001b[39m=\u001b[39m semantic_analysis\u001b[39m.\u001b[39mmerge_data(large_df, data_df, column \u001b[39m=\u001b[39m \u001b[39m'\u001b[39m\u001b[39mSemantic roberta twitter\u001b[39m\u001b[39m'\u001b[39m )\n\u001b[0;32m      <a href='vscode-notebook-cell:/c%3A/Users/storr/OneDrive%20-%20Danmarks%20Tekniske%20Universitet/Year%201/Semester%201/Computational%20Tools%20for%20Data%20Science/Project/computational_ds/src/semantic_analysis/results.ipynb#W6sZmlsZQ%3D%3D?line=1'>2</a>\u001b[0m large_df \u001b[39m=\u001b[39m large_df\u001b[39m.\u001b[39mdrop(\u001b[39m'\u001b[39m\u001b[39mText\u001b[39m\u001b[39m'\u001b[39m, axis\u001b[39m=\u001b[39m\u001b[39m1\u001b[39m)\n\u001b[0;32m      <a href='vscode-notebook-cell:/c%3A/Users/storr/OneDrive%20-%20Danmarks%20Tekniske%20Universitet/Year%201/Semester%201/Computational%20Tools%20for%20Data%20Science/Project/computational_ds/src/semantic_analysis/results.ipynb#W6sZmlsZQ%3D%3D?line=2'>3</a>\u001b[0m large_df\u001b[39m.\u001b[39mto_csv(\u001b[39mr\u001b[39m\u001b[39m\"\u001b[39m\u001b[39mC:\u001b[39m\u001b[39m\\\u001b[39m\u001b[39mUsers\u001b[39m\u001b[39m\\\u001b[39m\u001b[39mstorr\u001b[39m\u001b[39m\\\u001b[39m\u001b[39mOneDrive - Danmarks Tekniske Universitet\u001b[39m\u001b[39m\\\u001b[39m\u001b[39mYear 1\u001b[39m\u001b[39m\\\u001b[39m\u001b[39mSemester 1\u001b[39m\u001b[39m\\\u001b[39m\u001b[39mComputational Tools for Data Science\u001b[39m\u001b[39m\\\u001b[39m\u001b[39mProject\u001b[39m\u001b[39m\\\u001b[39m\u001b[39mDATA\u001b[39m\u001b[39m\\\u001b[39m\u001b[39mupdated_dataframe_with_clusters_and_semantics.csv\u001b[39m\u001b[39m\"\u001b[39m)\n",
      "\u001b[1;31mNameError\u001b[0m: name 'data_df' is not defined"
     ]
    }
   ],
   "source": [
    "large_df = semantic_analysis.merge_data(large_df, data_df, column = 'Semantic roberta twitter' )\n",
    "large_df = large_df.drop('Text', axis=1)\n",
    "large_df.to_csv(r\"C:\\Users\\storr\\OneDrive - Danmarks Tekniske Universitet\\Year 1\\Semester 1\\Computational Tools for Data Science\\Project\\DATA\\updated_dataframe_with_clusters_and_semantics.csv\")\n",
    "print(large_df.isna().sum())"
    "base_path = r\"C:\\Users\\inest\\OneDrive - Danmarks Tekniske Universitet\\Semester I\\Computational Tools for Data Science\\data\"\n",
    "\n",
    "data_list = []\n",
    "# Loop through years from 2014 to 2019\n",
    "for year in range(2014, 2020):\n",
    "\n",
    "    file_path = os.path.join(base_path, f\"cnn_final_output_{year}.csv\")\n",
    "    new_data_df = pd.read_csv(file_path)\n",
    "    data_list.append(new_data_df)\n",
    "\n",
    "        \n",
    "    file_path = os.path.join(base_path, f\"fox_final_output_{year}.csv\")\n",
    "    new_data_df = pd.read_csv(file_path)\n",
    "    data_list.append(new_data_df)\n",
    "\n",
    "    file_path = os.path.join(base_path, f\"reuters_final_output_{year}.csv\")\n",
    "    new_data_df = pd.read_csv(file_path)\n",
    "    data_list.append(new_data_df)\n",
    "\n",
    "data_df = pd.concat(data_list, ignore_index = True)        \n"
   ]
  },
  {
   "cell_type": "code",
   "execution_count": 2,
   "metadata": {},
   "outputs": [
    {
     "name": "stdout",
     "output_type": "stream",
     "text": [
      "neutral     139326\n",
      "negative     50262\n",
      "positive     14106\n",
      "Name: Semantic roberta twitter, dtype: int64\n",
      "neutral     59182\n",
      "positive    47959\n",
      "negative    14621\n",
      "Name: Semantic roberta twitter, dtype: int64\n",
      "neutral     50810\n",
      "positive    34706\n",
      "negative     8374\n",
      "Name: Semantic roberta twitter, dtype: int64\n"
     ]
    },
    {
     "data": {
      "image/png": "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",
      "text/plain": [
       "<Figure size 400x200 with 1 Axes>"
      ]
     },
     "metadata": {},
     "output_type": "display_data"
    }
   ],
   "source": [
    "master_file_df = pd.read_csv(r\"C:\\Users\\storr\\OneDrive - Danmarks Tekniske Universitet\\Year 1\\Semester 1\\Computational Tools for Data Science\\Project\\DATA\\updated_dataframe_with_clusters_and_semantics.csv\")\n",
    "vis_sentiment.sentiment_count_graph(master_file_df)"
   ]
   "execution_count": 6,
   "metadata": {},
   "outputs": [
    {
     "ename": "MemoryError",
     "evalue": "Unable to allocate 145. GiB for an array with shape (19486211861,) and data type int64",
     "output_type": "error",
     "traceback": [
      "\u001b[1;31m---------------------------------------------------------------------------\u001b[0m",
      "\u001b[1;31mMemoryError\u001b[0m                               Traceback (most recent call last)",
      "\u001b[1;32mc:\\Users\\inest\\OneDrive - Danmarks Tekniske Universitet\\Semester I\\Computational Tools for Data Science\\computational_ds\\src\\semantic_analysis\\results.ipynb Cell 10\u001b[0m line \u001b[0;36m1\n\u001b[1;32m----> <a href='vscode-notebook-cell:/c%3A/Users/inest/OneDrive%20-%20Danmarks%20Tekniske%20Universitet/Semester%20I/Computational%20Tools%20for%20Data%20Science/computational_ds/src/semantic_analysis/results.ipynb#W6sZmlsZQ%3D%3D?line=0'>1</a>\u001b[0m large_df \u001b[39m=\u001b[39m semantic_analysis\u001b[39m.\u001b[39;49mmerge_data(large_df, data_df)\n\u001b[0;32m      <a href='vscode-notebook-cell:/c%3A/Users/inest/OneDrive%20-%20Danmarks%20Tekniske%20Universitet/Semester%20I/Computational%20Tools%20for%20Data%20Science/computational_ds/src/semantic_analysis/results.ipynb#W6sZmlsZQ%3D%3D?line=1'>2</a>\u001b[0m large_df \u001b[39m=\u001b[39m large_df\u001b[39m.\u001b[39mdrop(\u001b[39m'\u001b[39m\u001b[39mText\u001b[39m\u001b[39m'\u001b[39m, axis\u001b[39m=\u001b[39m\u001b[39m1\u001b[39m)\n\u001b[0;32m      <a href='vscode-notebook-cell:/c%3A/Users/inest/OneDrive%20-%20Danmarks%20Tekniske%20Universitet/Semester%20I/Computational%20Tools%20for%20Data%20Science/computational_ds/src/semantic_analysis/results.ipynb#W6sZmlsZQ%3D%3D?line=2'>3</a>\u001b[0m large_df\u001b[39m.\u001b[39mto_csv(\u001b[39mr\u001b[39m\u001b[39m\"\u001b[39m\u001b[39mC:\u001b[39m\u001b[39m\\\u001b[39m\u001b[39mUsers\u001b[39m\u001b[39m\\\u001b[39m\u001b[39minest\u001b[39m\u001b[39m\\\u001b[39m\u001b[39mOneDrive - Danmarks Tekniske Universitet\u001b[39m\u001b[39m\\\u001b[39m\u001b[39mSemester I\u001b[39m\u001b[39m\\\u001b[39m\u001b[39mComputational Tools for Data Science\u001b[39m\u001b[39m\\\u001b[39m\u001b[39mdata\u001b[39m\u001b[39m\\\u001b[39m\u001b[39mupdated_dataframe_with_clusters_and_semantics.csv\u001b[39m\u001b[39m\"\u001b[39m)\n",
      "File \u001b[1;32mc:\\Users\\inest\\OneDrive - Danmarks Tekniske Universitet\\Semester I\\Computational Tools for Data Science\\computational_ds\\src\\semantic_analysis\\semantic_analysis.py:195\u001b[0m, in \u001b[0;36mmerge_data\u001b[1;34m(large_master_file_df, new_data_df, column_1, column_2, column_3, column_4)\u001b[0m\n\u001b[0;32m    191\u001b[0m \u001b[39mdef\u001b[39;00m \u001b[39mmerge_data\u001b[39m(large_master_file_df, new_data_df, column_1 \u001b[39m=\u001b[39m\u001b[39m'\u001b[39m\u001b[39mSemantic roberta twitter\u001b[39m\u001b[39m'\u001b[39m, column_2 \u001b[39m=\u001b[39m \u001b[39m'\u001b[39m\u001b[39mSentiment value roberta\u001b[39m\u001b[39m'\u001b[39m , column_3 \u001b[39m=\u001b[39m \u001b[39m'\u001b[39m\u001b[39mSentiment lexicon\u001b[39m\u001b[39m'\u001b[39m,column_4\u001b[39m=\u001b[39m\u001b[39m'\u001b[39m\u001b[39mSentiment value lexicon\u001b[39m\u001b[39m'\u001b[39m):\n\u001b[0;32m    193\u001b[0m     new_data_df \u001b[39m=\u001b[39m new_data_df[[\u001b[39m'\u001b[39m\u001b[39mLink\u001b[39m\u001b[39m'\u001b[39m, column_1, column_2, column_3, column_4]]\n\u001b[1;32m--> 195\u001b[0m     master_file_merged \u001b[39m=\u001b[39m pd\u001b[39m.\u001b[39;49mmerge(large_master_file_df, new_data_df, on\u001b[39m=\u001b[39;49m\u001b[39m'\u001b[39;49m\u001b[39mLink\u001b[39;49m\u001b[39m'\u001b[39;49m, how\u001b[39m=\u001b[39;49m\u001b[39m'\u001b[39;49m\u001b[39mleft\u001b[39;49m\u001b[39m'\u001b[39;49m)\n\u001b[0;32m    197\u001b[0m     \u001b[39mreturn\u001b[39;00m master_file_merged\n",
      "File \u001b[1;32mc:\\Users\\inest\\AppData\\Local\\Programs\\Python\\Python310\\lib\\site-packages\\pandas\\core\\reshape\\merge.py:124\u001b[0m, in \u001b[0;36mmerge\u001b[1;34m(left, right, how, on, left_on, right_on, left_index, right_index, sort, suffixes, copy, indicator, validate)\u001b[0m\n\u001b[0;32m     93\u001b[0m \u001b[39m@Substitution\u001b[39m(\u001b[39m\"\u001b[39m\u001b[39m\\n\u001b[39;00m\u001b[39mleft : DataFrame or named Series\u001b[39m\u001b[39m\"\u001b[39m)\n\u001b[0;32m     94\u001b[0m \u001b[39m@Appender\u001b[39m(_merge_doc, indents\u001b[39m=\u001b[39m\u001b[39m0\u001b[39m)\n\u001b[0;32m     95\u001b[0m \u001b[39mdef\u001b[39;00m \u001b[39mmerge\u001b[39m(\n\u001b[1;32m   (...)\u001b[0m\n\u001b[0;32m    108\u001b[0m     validate: \u001b[39mstr\u001b[39m \u001b[39m|\u001b[39m \u001b[39mNone\u001b[39;00m \u001b[39m=\u001b[39m \u001b[39mNone\u001b[39;00m,\n\u001b[0;32m    109\u001b[0m ) \u001b[39m-\u001b[39m\u001b[39m>\u001b[39m DataFrame:\n\u001b[0;32m    110\u001b[0m     op \u001b[39m=\u001b[39m _MergeOperation(\n\u001b[0;32m    111\u001b[0m         left,\n\u001b[0;32m    112\u001b[0m         right,\n\u001b[1;32m   (...)\u001b[0m\n\u001b[0;32m    122\u001b[0m         validate\u001b[39m=\u001b[39mvalidate,\n\u001b[0;32m    123\u001b[0m     )\n\u001b[1;32m--> 124\u001b[0m     \u001b[39mreturn\u001b[39;00m op\u001b[39m.\u001b[39;49mget_result(copy\u001b[39m=\u001b[39;49mcopy)\n",
      "File \u001b[1;32mc:\\Users\\inest\\AppData\\Local\\Programs\\Python\\Python310\\lib\\site-packages\\pandas\\core\\reshape\\merge.py:773\u001b[0m, in \u001b[0;36m_MergeOperation.get_result\u001b[1;34m(self, copy)\u001b[0m\n\u001b[0;32m    770\u001b[0m \u001b[39mif\u001b[39;00m \u001b[39mself\u001b[39m\u001b[39m.\u001b[39mindicator:\n\u001b[0;32m    771\u001b[0m     \u001b[39mself\u001b[39m\u001b[39m.\u001b[39mleft, \u001b[39mself\u001b[39m\u001b[39m.\u001b[39mright \u001b[39m=\u001b[39m \u001b[39mself\u001b[39m\u001b[39m.\u001b[39m_indicator_pre_merge(\u001b[39mself\u001b[39m\u001b[39m.\u001b[39mleft, \u001b[39mself\u001b[39m\u001b[39m.\u001b[39mright)\n\u001b[1;32m--> 773\u001b[0m join_index, left_indexer, right_indexer \u001b[39m=\u001b[39m \u001b[39mself\u001b[39;49m\u001b[39m.\u001b[39;49m_get_join_info()\n\u001b[0;32m    775\u001b[0m result \u001b[39m=\u001b[39m \u001b[39mself\u001b[39m\u001b[39m.\u001b[39m_reindex_and_concat(\n\u001b[0;32m    776\u001b[0m     join_index, left_indexer, right_indexer, copy\u001b[39m=\u001b[39mcopy\n\u001b[0;32m    777\u001b[0m )\n\u001b[0;32m    778\u001b[0m result \u001b[39m=\u001b[39m result\u001b[39m.\u001b[39m__finalize__(\u001b[39mself\u001b[39m, method\u001b[39m=\u001b[39m\u001b[39mself\u001b[39m\u001b[39m.\u001b[39m_merge_type)\n",
      "File \u001b[1;32mc:\\Users\\inest\\AppData\\Local\\Programs\\Python\\Python310\\lib\\site-packages\\pandas\\core\\reshape\\merge.py:1026\u001b[0m, in \u001b[0;36m_MergeOperation._get_join_info\u001b[1;34m(self)\u001b[0m\n\u001b[0;32m   1022\u001b[0m     join_index, right_indexer, left_indexer \u001b[39m=\u001b[39m _left_join_on_index(\n\u001b[0;32m   1023\u001b[0m         right_ax, left_ax, \u001b[39mself\u001b[39m\u001b[39m.\u001b[39mright_join_keys, sort\u001b[39m=\u001b[39m\u001b[39mself\u001b[39m\u001b[39m.\u001b[39msort\n\u001b[0;32m   1024\u001b[0m     )\n\u001b[0;32m   1025\u001b[0m \u001b[39melse\u001b[39;00m:\n\u001b[1;32m-> 1026\u001b[0m     (left_indexer, right_indexer) \u001b[39m=\u001b[39m \u001b[39mself\u001b[39;49m\u001b[39m.\u001b[39;49m_get_join_indexers()\n\u001b[0;32m   1028\u001b[0m     \u001b[39mif\u001b[39;00m \u001b[39mself\u001b[39m\u001b[39m.\u001b[39mright_index:\n\u001b[0;32m   1029\u001b[0m         \u001b[39mif\u001b[39;00m \u001b[39mlen\u001b[39m(\u001b[39mself\u001b[39m\u001b[39m.\u001b[39mleft) \u001b[39m>\u001b[39m \u001b[39m0\u001b[39m:\n",
      "File \u001b[1;32mc:\\Users\\inest\\AppData\\Local\\Programs\\Python\\Python310\\lib\\site-packages\\pandas\\core\\reshape\\merge.py:1000\u001b[0m, in \u001b[0;36m_MergeOperation._get_join_indexers\u001b[1;34m(self)\u001b[0m\n\u001b[0;32m    998\u001b[0m \u001b[39mdef\u001b[39;00m \u001b[39m_get_join_indexers\u001b[39m(\u001b[39mself\u001b[39m) \u001b[39m-\u001b[39m\u001b[39m>\u001b[39m \u001b[39mtuple\u001b[39m[npt\u001b[39m.\u001b[39mNDArray[np\u001b[39m.\u001b[39mintp], npt\u001b[39m.\u001b[39mNDArray[np\u001b[39m.\u001b[39mintp]]:\n\u001b[0;32m    999\u001b[0m \u001b[39m    \u001b[39m\u001b[39m\"\"\"return the join indexers\"\"\"\u001b[39;00m\n\u001b[1;32m-> 1000\u001b[0m     \u001b[39mreturn\u001b[39;00m get_join_indexers(\n\u001b[0;32m   1001\u001b[0m         \u001b[39mself\u001b[39;49m\u001b[39m.\u001b[39;49mleft_join_keys, \u001b[39mself\u001b[39;49m\u001b[39m.\u001b[39;49mright_join_keys, sort\u001b[39m=\u001b[39;49m\u001b[39mself\u001b[39;49m\u001b[39m.\u001b[39;49msort, how\u001b[39m=\u001b[39;49m\u001b[39mself\u001b[39;49m\u001b[39m.\u001b[39;49mhow\n\u001b[0;32m   1002\u001b[0m     )\n",
      "File \u001b[1;32mc:\\Users\\inest\\AppData\\Local\\Programs\\Python\\Python310\\lib\\site-packages\\pandas\\core\\reshape\\merge.py:1610\u001b[0m, in \u001b[0;36mget_join_indexers\u001b[1;34m(left_keys, right_keys, sort, how, **kwargs)\u001b[0m\n\u001b[0;32m   1600\u001b[0m join_func \u001b[39m=\u001b[39m {\n\u001b[0;32m   1601\u001b[0m     \u001b[39m\"\u001b[39m\u001b[39minner\u001b[39m\u001b[39m\"\u001b[39m: libjoin\u001b[39m.\u001b[39minner_join,\n\u001b[0;32m   1602\u001b[0m     \u001b[39m\"\u001b[39m\u001b[39mleft\u001b[39m\u001b[39m\"\u001b[39m: libjoin\u001b[39m.\u001b[39mleft_outer_join,\n\u001b[1;32m   (...)\u001b[0m\n\u001b[0;32m   1606\u001b[0m     \u001b[39m\"\u001b[39m\u001b[39mouter\u001b[39m\u001b[39m\"\u001b[39m: libjoin\u001b[39m.\u001b[39mfull_outer_join,\n\u001b[0;32m   1607\u001b[0m }[how]\n\u001b[0;32m   1609\u001b[0m \u001b[39m# error: Cannot call function of unknown type\u001b[39;00m\n\u001b[1;32m-> 1610\u001b[0m \u001b[39mreturn\u001b[39;00m join_func(lkey, rkey, count, \u001b[39m*\u001b[39m\u001b[39m*\u001b[39mkwargs)\n",
      "File \u001b[1;32mc:\\Users\\inest\\AppData\\Local\\Programs\\Python\\Python310\\lib\\site-packages\\pandas\\_libs\\join.pyx:104\u001b[0m, in \u001b[0;36mpandas._libs.join.left_outer_join\u001b[1;34m()\u001b[0m\n",
      "\u001b[1;31mMemoryError\u001b[0m: Unable to allocate 145. GiB for an array with shape (19486211861,) and data type int64"
     ]
    }
   ],
   "source": [
    "large_df = semantic_analysis.merge_data(large_df, data_df)\n",
    "large_df = large_df.drop('Text', axis=1)\n",
    "large_df.to_csv(r\"C:\\Users\\inest\\OneDrive - Danmarks Tekniske Universitet\\Semester I\\Computational Tools for Data Science\\data\\updated_dataframe_with_clusters_and_semantics.csv\")\n"
   ]
  },
  {
   "cell_type": "code",
   "execution_count": null,
   "metadata": {},
   "outputs": [
    {
     "name": "stdout",
     "output_type": "stream",
     "text": [
      "59022\n"
     ]
    }
   ],
   "source": [
    "print(large_df['Semantic roberta twitter'].isna().sum())"
   ]
  },
  {
   "cell_type": "code",
   "execution_count": null,
   "metadata": {},
   "outputs": [
    {
     "name": "stdout",
     "output_type": "stream",
     "text": [
      "        ID                                           Headline  \\\n",
      "100558   2  BRIEF-Wi-Lan, Funai Electric enter license agr...   \n",
      "\n",
      "                        Date Organization  \\\n",
      "100558  2016-12-29T15:06:56Z      Reuters   \n",
      "\n",
      "                                                Link  Cluster  \\\n",
      "100558  https://www.reuters.com/article/idUSASC09P51      420   \n",
      "\n",
      "       Semantic roberta twitter Sentiment value lexicon  \n",
      "100558                      NaN                     NaN  \n"
     ]
    }
   ],
   "source": [
    "row_with_missing = large_df[large_df['Semantic roberta twitter'].isnull()].head(1)\n",
    "\n",
    "# Print the entire row\n",
    "print(row_with_missing)"
   ]
  },
  {
   "cell_type": "code",
   "execution_count": null,
   "metadata": {},
   "outputs": [],
   "source": []
  }
 ],
 "metadata": {
  "kernelspec": {
   "display_name": "Python 3",
   "language": "python",
   "name": "python3"
  },
  "language_info": {
   "codemirror_mode": {
    "name": "ipython",
    "version": 3
   },
   "file_extension": ".py",
   "mimetype": "text/x-python",
   "name": "python",
   "nbconvert_exporter": "python",
   "pygments_lexer": "ipython3",
   "version": "3.10.4"
  }
 },
 "nbformat": 4,
 "nbformat_minor": 2
}
