{
 "cells": [
  {
   "cell_type": "code",
   "execution_count": 2,
   "metadata": {},
   "outputs": [
    {
     "name": "stderr",
     "output_type": "stream",
     "text": [
      "c:\\Users\\inest\\AppData\\Local\\Programs\\Python\\Python310\\lib\\site-packages\\tqdm\\auto.py:21: TqdmWarning: IProgress not found. Please update jupyter and ipywidgets. See https://ipywidgets.readthedocs.io/en/stable/user_install.html\n",
      "  from .autonotebook import tqdm as notebook_tqdm\n"
     ]
    }
   ],
   "source": [
    "import numpy as np\n",
    "import pandas as pd\n",
    "import sys\n",
    "import os\n",
    "sys.path.append('../src')\n",
    "sys.path.append('../data')\n",
    "import  semantic_analysis#, helper\n",
    "import os"
   ]
  },
  {
   "cell_type": "code",
   "execution_count": 3,
   "metadata": {},
   "outputs": [
    {
     "name": "stderr",
     "output_type": "stream",
     "text": [
      "Truncation was not explicitly activated but `max_length` is provided a specific value, please use `truncation=True` to explicitly truncate examples to max length. Defaulting to 'longest_first' truncation strategy. If you encode pairs of sequences (GLUE-style) with the tokenizer you can select this strategy more precisely by providing a specific strategy to `truncation`.\n"
     ]
    },
    {
     "name": "stdout",
     "output_type": "stream",
     "text": [
      "File saved for year 2014\n"
     ]
    },
    {
     "name": "stderr",
     "output_type": "stream",
     "text": [
      "Truncation was not explicitly activated but `max_length` is provided a specific value, please use `truncation=True` to explicitly truncate examples to max length. Defaulting to 'longest_first' truncation strategy. If you encode pairs of sequences (GLUE-style) with the tokenizer you can select this strategy more precisely by providing a specific strategy to `truncation`.\n"
     ]
    },
    {
     "name": "stdout",
     "output_type": "stream",
     "text": [
      "File saved for year 2015\n"
     ]
    },
    {
     "name": "stderr",
     "output_type": "stream",
     "text": [
      "Truncation was not explicitly activated but `max_length` is provided a specific value, please use `truncation=True` to explicitly truncate examples to max length. Defaulting to 'longest_first' truncation strategy. If you encode pairs of sequences (GLUE-style) with the tokenizer you can select this strategy more precisely by providing a specific strategy to `truncation`.\n"
     ]
    },
    {
     "name": "stdout",
     "output_type": "stream",
     "text": [
      "File saved for year 2016\n"
     ]
    }
   ],
   "source": [
    "# Define the path\n",
    "base_path = r\"C:\\Users\\inest\\OneDrive - Danmarks Tekniske Universitet\\Semester I\\Computational Tools for Data Science\\data\"\n",
    "\n",
    "# Loop through years from 2014 to 2019\n",
    "for year in range(2014, 2017):\n",
    "for year in range(2019, 2020):\n",
    "\n",
    "    file_path = os.path.join(base_path, f\"fox_{year}_output.csv\")\n",
    "    \n",
    "    # Check if the file exists for the given year\n",
    "    if os.path.exists(file_path):\n",
    "        # Read the CSV file\n",
    "        #semantic_analysis.lexicon_nltk(file_path)\n",
    "        semantic_scores_lexicon = semantic_analysis.roberta_semantic_algorithm_twitter(file_path)\n",
    "        semantic_analysis.lexicon_nltk(file_path)\n",
    "        semantic_analysis.roberta_semantic_algorithm_twitter(file_path)\n",
    "        \n",
    "        print(f\"File saved for year {year}\")\n",
    "    else:\n",
    "        print(f\"No file found for year {year}\")\n"
   ]
  },
  {
   "cell_type": "code",
   "execution_count": null,
   "metadata": {},
   "outputs": [
    {
     "name": "stdout",
     "output_type": "stream",
     "text": [
      "Classification in fox 2014:\n",
      " neutral     7541\n",
      "negative    2852\n",
      "positive    1142\n",
      "Name: Semantic roberta twitter, dtype: int64\n",
      "Classification in fox 2015:\n",
      " neutral     9658\n",
      "negative    4254\n",
      "positive    1831\n",
      "Name: Semantic roberta twitter, dtype: int64\n",
      "Classification in fox 2016:\n",
      " neutral     9735\n",
      "negative    5535\n",
      "positive    1797\n",
      "Name: Semantic roberta twitter, dtype: int64\n"
     ]
    }
   ],
   "source": [
    "for year in range(2014, 2017):\n",
    "    file_path = os.path.join(base_path, f\"fox_{year}_semantics.csv\")\n",
    "    df = pd.read_csv(file_path)\n",
    "    print(f'Classification in fox {year}:\\n', df['Semantic roberta twitter'].value_counts())"
   ]
  },
  {
   "cell_type": "code",
   "execution_count": 3,
   "metadata": {},
   "outputs": [],
   "source": [
    "large_file_path = r'C:\\Users\\storr\\OneDrive - Danmarks Tekniske Universitet\\Year 1\\Semester 1\\Computational Tools for Data Science\\Project\\DATA\\updated_dataframe_with_clusters_word2vec.csv'\n",
    "\n",
    "large_df = pd.read_csv(large_file_path)"
   ]
  },
  {
   "cell_type": "code",
   "execution_count": 4,
   "metadata": {},
   "outputs": [],
      "tensor([[ 0.1195, -0.1077]], grad_fn=<AddmmBackward0>)\n",
      "tensor([ 0.1195, -0.1077], grad_fn=<SelectBackward0>)\n",
      "<class 'torch.Tensor'>\n",
      "tensor([ 0.1195, -0.1077], grad_fn=<SelectBackward0>)\n"
     ]
    }
   ],
   "source": [
    "# Define the path\n",
    "base_path = r\"C:\\Users\\storr\\OneDrive - Danmarks Tekniske Universitet\\Year 1\\Semester 1\\Computational Tools for Data Science\\Project\\DATA\"\n",
    "\n",
    "base_path = r\"C:\\Users\\storr\\OneDrive - Danmarks Tekniske Universitet\\Year 1\\Semester 1\\Computational Tools for Data Science\\Project\\SEMANTICS\"\n",
    "\n",
    "data_list = []\n",
    "# Loop through years from 2014 to 2019\n",
    "for year in range(2014, 2020):\n",
    "\n",
    "    file_path = os.path.join(base_path, f\"cnn_{year}_semantics.csv\")\n",
    "    new_data_df = pd.read_csv(file_path)\n",
    "    data_list.append(new_data_df)\n",
    "\n",
    "        \n",
    "    file_path = os.path.join(base_path, f\"fox_{year}_semantics.csv\")\n",
    "    new_data_df = pd.read_csv(file_path)\n",
    "    data_list.append(new_data_df)\n",
    "\n",
    "    file_path = os.path.join(base_path, f\"reuters_{year}_semantics.csv\")\n",
    "    new_data_df = pd.read_csv(file_path)\n",
    "    data_list.append(new_data_df)\n",
    "\n",
    "data_df = pd.concat(data_list, ignore_index = True)        \n",
    "\n"
   ]
  },
  {
   "cell_type": "code",
   "execution_count": 5,
   "metadata": {},
   "outputs": [],
   "source": [
    "large_df = semantic_analysis.merge_data(large_df, data_df, column = 'Semantic roberta twitter' )\n",
    "large_df = large_df.drop('Text', axis=1)\n",
    "large_df.to_csv(r\"C:\\Users\\storr\\OneDrive - Danmarks Tekniske Universitet\\Year 1\\Semester 1\\Computational Tools for Data Science\\Project\\DATA\\updated_dataframe_with_clusters_and_semantics.csv\")"
    "# Loop through years from 2014 to 2019\n",
    "for year in range(2014, 2020):\n",
    "\n",
    "    file_path = os.path.join(base_path, f\"cnn_{year}_output.csv\")\n",
    "    \n",
    "    # Check if the file exists for the given year\n",
    "    if os.path.exists(file_path):\n",
    "        # Read the CSV file\n",
    "        #semantic_analysis.lexicon_nltk(file_path)\n",
    "        output_twitter = semantic_analysis.roberta_semantic_algorithm_twitter(file_path)\n",
    "        \n",
    "        print(f\"File saved for year {year}\")\n",
    "    else:\n",
    "        print(f\"No file found for year {year}\")"
   ]
  }
 ],
 "metadata": {
  "kernelspec": {
   "display_name": "Python 3",
   "language": "python",
   "name": "python3"
  },
  "language_info": {
   "codemirror_mode": {
    "name": "ipython",
    "version": 3
   },
   "file_extension": ".py",
   "mimetype": "text/x-python",
   "name": "python",
   "nbconvert_exporter": "python",
   "pygments_lexer": "ipython3",
   "version": "3.10.4"
  }
 },
 "nbformat": 4,
 "nbformat_minor": 2
}
