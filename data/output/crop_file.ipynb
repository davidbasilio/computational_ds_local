{
 "cells": [
  {
   "cell_type": "code",
   "execution_count": 9,
   "metadata": {},
   "outputs": [],
   "source": [
    "import pandas as pd\n",
    "\n",
    "def split_csv(input_file, condition_column, output_file1, output_file2):\n",
    "    # Read the CSV file into a pandas DataFrame\n",
    "    df = pd.read_csv(input_file)\n",
    "    condition_value = 20000\n",
    "\n",
    "    # Split the DataFrame based on the specified condition\n",
    "    df1 = df[: condition_value]\n",
    "    df2 = df[condition_value :]\n",
    "\n",
    "    # Save the two split DataFrames to separate CSV files\n",
    "    df1.to_csv(output_file1, index=False)\n",
    "    df2.to_csv(output_file2, index=False)\n",
    "\n",
    "if __name__ == \"__main__\":\n",
    "    # Specify input CSV file, condition column, condition value, and output file names\n",
    "    input_file = \"recommender_big_clusters_with_data.csv\"\n",
    "    condition_column = \"column_name\"\n",
    "    output_file1 = \"recommender_big_clusters_with_data1.csv\"\n",
    "    output_file2 = \"recommender_big_clusters_with_data2.csv\"\n",
    "\n",
    "    # Call the function to split the CSV file\n",
    "    split_csv(input_file, condition_column, output_file1, output_file2)\n"
   ]
  },
  {
   "cell_type": "code",
   "execution_count": 11,
   "metadata": {},
   "outputs": [
    {
     "data": {
      "text/plain": [
       "16700"
      ]
     },
     "execution_count": 11,
     "metadata": {},
     "output_type": "execute_result"
    }
   ],
   "source": [
    "df = pd.read_csv(\"recommender_big_clusters_with_data2.csv\")\n",
    "condition_value = len(df)\n",
    "len(df)"
   ]
  }
 ],
 "metadata": {
  "kernelspec": {
   "display_name": "base",
   "language": "python",
   "name": "python3"
  },
  "language_info": {
   "codemirror_mode": {
    "name": "ipython",
    "version": 3
   },
   "file_extension": ".py",
   "mimetype": "text/x-python",
   "name": "python",
   "nbconvert_exporter": "python",
   "pygments_lexer": "ipython3",
   "version": "3.9.18"
  }
 },
 "nbformat": 4,
 "nbformat_minor": 2
}
